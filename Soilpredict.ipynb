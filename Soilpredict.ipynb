{
 "cells": [
  {
   "cell_type": "code",
   "execution_count": 14,
   "id": "nervous-abuse",
   "metadata": {},
   "outputs": [],
   "source": [
    "import pandas as pd\n",
    "import numpy as np\n",
    "import matplotlib.pyplot as plt\n",
    "%matplotlib inline"
   ]
  },
  {
   "cell_type": "code",
   "execution_count": 15,
   "id": "alert-ivory",
   "metadata": {},
   "outputs": [],
   "source": [
    "dataset = pd.read_csv(\"SoilDataset.csv\")"
   ]
  },
  {
   "cell_type": "code",
   "execution_count": 16,
   "id": "generic-soundtrack",
   "metadata": {},
   "outputs": [
    {
     "data": {
      "text/plain": [
       "(9000, 35)"
      ]
     },
     "execution_count": 16,
     "metadata": {},
     "output_type": "execute_result"
    }
   ],
   "source": [
    "dataset.shape"
   ]
  },
  {
   "cell_type": "code",
   "execution_count": 18,
   "id": "republican-dating",
   "metadata": {},
   "outputs": [],
   "source": [
    "X = dataset.drop('Soiltype', axis=1)\n",
    "y = dataset['Soiltype']"
   ]
  },
  {
   "cell_type": "code",
   "execution_count": 19,
   "id": "alpine-boards",
   "metadata": {},
   "outputs": [],
   "source": [
    "from sklearn.model_selection import train_test_split\n",
    "X_train, X_test, y_train, y_test = train_test_split(X, y, test_size=0.20)"
   ]
  },
  {
   "cell_type": "code",
   "execution_count": 20,
   "id": "fantastic-narrow",
   "metadata": {},
   "outputs": [],
   "source": [
    "newdataset= dataset.interpolate()"
   ]
  },
  {
   "cell_type": "code",
   "execution_count": 21,
   "id": "economic-summer",
   "metadata": {},
   "outputs": [
    {
     "data": {
      "text/html": [
       "<div>\n",
       "<style scoped>\n",
       "    .dataframe tbody tr th:only-of-type {\n",
       "        vertical-align: middle;\n",
       "    }\n",
       "\n",
       "    .dataframe tbody tr th {\n",
       "        vertical-align: top;\n",
       "    }\n",
       "\n",
       "    .dataframe thead th {\n",
       "        text-align: right;\n",
       "    }\n",
       "</style>\n",
       "<table border=\"1\" class=\"dataframe\">\n",
       "  <thead>\n",
       "    <tr style=\"text-align: right;\">\n",
       "      <th></th>\n",
       "      <th>Band1</th>\n",
       "      <th>Band2</th>\n",
       "      <th>Band3</th>\n",
       "      <th>Band4</th>\n",
       "      <th>Band5</th>\n",
       "      <th>Band6</th>\n",
       "      <th>Band7</th>\n",
       "      <th>Band9</th>\n",
       "      <th>Band10</th>\n",
       "      <th>Band11</th>\n",
       "      <th>...</th>\n",
       "      <th>CorrectiveBand5</th>\n",
       "      <th>CorrectiveBand6</th>\n",
       "      <th>CorrectiveBand7</th>\n",
       "      <th>CorrectiveBand9</th>\n",
       "      <th>CorrectiveBand10</th>\n",
       "      <th>CorrectiveBand11</th>\n",
       "      <th>NDVI</th>\n",
       "      <th>SAVI</th>\n",
       "      <th>EVI</th>\n",
       "      <th>Soiltype</th>\n",
       "    </tr>\n",
       "  </thead>\n",
       "  <tbody>\n",
       "    <tr>\n",
       "      <th>0</th>\n",
       "      <td>10750</td>\n",
       "      <td>10215</td>\n",
       "      <td>9818</td>\n",
       "      <td>9949</td>\n",
       "      <td>13999</td>\n",
       "      <td>12936</td>\n",
       "      <td>10806</td>\n",
       "      <td>5041</td>\n",
       "      <td>27211</td>\n",
       "      <td>24505</td>\n",
       "      <td>...</td>\n",
       "      <td>-0.380165</td>\n",
       "      <td>-0.335258</td>\n",
       "      <td>-0.245276</td>\n",
       "      <td>-0.001732</td>\n",
       "      <td>-0.938310</td>\n",
       "      <td>-0.823994</td>\n",
       "      <td>0.169116</td>\n",
       "      <td>0.253675</td>\n",
       "      <td>7.120000e-09</td>\n",
       "      <td>Sandy Loam</td>\n",
       "    </tr>\n",
       "    <tr>\n",
       "      <th>1</th>\n",
       "      <td>10356</td>\n",
       "      <td>9601</td>\n",
       "      <td>8944</td>\n",
       "      <td>8362</td>\n",
       "      <td>15037</td>\n",
       "      <td>10579</td>\n",
       "      <td>8523</td>\n",
       "      <td>5031</td>\n",
       "      <td>25571</td>\n",
       "      <td>23145</td>\n",
       "      <td>...</td>\n",
       "      <td>-0.424016</td>\n",
       "      <td>-0.235686</td>\n",
       "      <td>-0.148830</td>\n",
       "      <td>-0.001310</td>\n",
       "      <td>-0.869027</td>\n",
       "      <td>-0.766540</td>\n",
       "      <td>0.285269</td>\n",
       "      <td>0.427903</td>\n",
       "      <td>1.380000e-08</td>\n",
       "      <td>Loam</td>\n",
       "    </tr>\n",
       "    <tr>\n",
       "      <th>2</th>\n",
       "      <td>9700</td>\n",
       "      <td>8960</td>\n",
       "      <td>8200</td>\n",
       "      <td>7560</td>\n",
       "      <td>13572</td>\n",
       "      <td>9789</td>\n",
       "      <td>7719</td>\n",
       "      <td>5030</td>\n",
       "      <td>25539</td>\n",
       "      <td>23358</td>\n",
       "      <td>...</td>\n",
       "      <td>-0.411813</td>\n",
       "      <td>-0.230071</td>\n",
       "      <td>-0.130625</td>\n",
       "      <td>-0.001441</td>\n",
       "      <td>-0.986726</td>\n",
       "      <td>-0.881947</td>\n",
       "      <td>0.284497</td>\n",
       "      <td>0.426746</td>\n",
       "      <td>1.640000e-08</td>\n",
       "      <td>Loam</td>\n",
       "    </tr>\n",
       "    <tr>\n",
       "      <th>3</th>\n",
       "      <td>11711</td>\n",
       "      <td>11390</td>\n",
       "      <td>11107</td>\n",
       "      <td>11414</td>\n",
       "      <td>12894</td>\n",
       "      <td>13906</td>\n",
       "      <td>13187</td>\n",
       "      <td>5033</td>\n",
       "      <td>21447</td>\n",
       "      <td>19666</td>\n",
       "      <td>...</td>\n",
       "      <td>-0.177916</td>\n",
       "      <td>-0.200724</td>\n",
       "      <td>-0.184519</td>\n",
       "      <td>-0.000744</td>\n",
       "      <td>-0.370684</td>\n",
       "      <td>-0.330543</td>\n",
       "      <td>0.060885</td>\n",
       "      <td>0.091328</td>\n",
       "      <td>2.210000e-09</td>\n",
       "      <td>Sandy Clay Loam</td>\n",
       "    </tr>\n",
       "    <tr>\n",
       "      <th>4</th>\n",
       "      <td>12938</td>\n",
       "      <td>12281</td>\n",
       "      <td>11666</td>\n",
       "      <td>11435</td>\n",
       "      <td>13725</td>\n",
       "      <td>10704</td>\n",
       "      <td>9788</td>\n",
       "      <td>7208</td>\n",
       "      <td>15315</td>\n",
       "      <td>14943</td>\n",
       "      <td>...</td>\n",
       "      <td>-0.177023</td>\n",
       "      <td>-0.115729</td>\n",
       "      <td>-0.097145</td>\n",
       "      <td>-0.044798</td>\n",
       "      <td>-0.209283</td>\n",
       "      <td>-0.201735</td>\n",
       "      <td>0.091017</td>\n",
       "      <td>0.136526</td>\n",
       "      <td>2.970000e-09</td>\n",
       "      <td>Sandy Loam</td>\n",
       "    </tr>\n",
       "    <tr>\n",
       "      <th>...</th>\n",
       "      <td>...</td>\n",
       "      <td>...</td>\n",
       "      <td>...</td>\n",
       "      <td>...</td>\n",
       "      <td>...</td>\n",
       "      <td>...</td>\n",
       "      <td>...</td>\n",
       "      <td>...</td>\n",
       "      <td>...</td>\n",
       "      <td>...</td>\n",
       "      <td>...</td>\n",
       "      <td>...</td>\n",
       "      <td>...</td>\n",
       "      <td>...</td>\n",
       "      <td>...</td>\n",
       "      <td>...</td>\n",
       "      <td>...</td>\n",
       "      <td>...</td>\n",
       "      <td>...</td>\n",
       "      <td>...</td>\n",
       "      <td>...</td>\n",
       "    </tr>\n",
       "    <tr>\n",
       "      <th>8995</th>\n",
       "      <td>10506</td>\n",
       "      <td>9784</td>\n",
       "      <td>9106</td>\n",
       "      <td>8700</td>\n",
       "      <td>13480</td>\n",
       "      <td>10159</td>\n",
       "      <td>8275</td>\n",
       "      <td>5051</td>\n",
       "      <td>28685</td>\n",
       "      <td>26406</td>\n",
       "      <td>...</td>\n",
       "      <td>0.209679</td>\n",
       "      <td>0.127563</td>\n",
       "      <td>0.080979</td>\n",
       "      <td>0.001261</td>\n",
       "      <td>0.585643</td>\n",
       "      <td>0.529292</td>\n",
       "      <td>0.215509</td>\n",
       "      <td>0.323264</td>\n",
       "      <td>1.040000e-08</td>\n",
       "      <td>Silty Clay Loam</td>\n",
       "    </tr>\n",
       "    <tr>\n",
       "      <th>8996</th>\n",
       "      <td>10689</td>\n",
       "      <td>10028</td>\n",
       "      <td>9368</td>\n",
       "      <td>8869</td>\n",
       "      <td>13644</td>\n",
       "      <td>10424</td>\n",
       "      <td>8479</td>\n",
       "      <td>5042</td>\n",
       "      <td>24943</td>\n",
       "      <td>22870</td>\n",
       "      <td>...</td>\n",
       "      <td>0.187234</td>\n",
       "      <td>0.117487</td>\n",
       "      <td>0.075357</td>\n",
       "      <td>0.000910</td>\n",
       "      <td>0.431977</td>\n",
       "      <td>0.387074</td>\n",
       "      <td>0.212100</td>\n",
       "      <td>0.318150</td>\n",
       "      <td>9.840000e-09</td>\n",
       "      <td>Silty Clay Loam</td>\n",
       "    </tr>\n",
       "    <tr>\n",
       "      <th>8997</th>\n",
       "      <td>15510</td>\n",
       "      <td>13174</td>\n",
       "      <td>18435</td>\n",
       "      <td>11627</td>\n",
       "      <td>12621</td>\n",
       "      <td>10818</td>\n",
       "      <td>18090</td>\n",
       "      <td>5065</td>\n",
       "      <td>20267</td>\n",
       "      <td>18926</td>\n",
       "      <td>...</td>\n",
       "      <td>-0.514843</td>\n",
       "      <td>-0.393040</td>\n",
       "      <td>-0.884306</td>\n",
       "      <td>-0.004391</td>\n",
       "      <td>-1.031376</td>\n",
       "      <td>-0.940783</td>\n",
       "      <td>0.040993</td>\n",
       "      <td>0.061490</td>\n",
       "      <td>1.290000e-09</td>\n",
       "      <td>Loam</td>\n",
       "    </tr>\n",
       "    <tr>\n",
       "      <th>8998</th>\n",
       "      <td>10753</td>\n",
       "      <td>10117</td>\n",
       "      <td>9652</td>\n",
       "      <td>9630</td>\n",
       "      <td>13668</td>\n",
       "      <td>11367</td>\n",
       "      <td>9764</td>\n",
       "      <td>5052</td>\n",
       "      <td>29475</td>\n",
       "      <td>26932</td>\n",
       "      <td>...</td>\n",
       "      <td>0.214328</td>\n",
       "      <td>0.157432</td>\n",
       "      <td>0.117796</td>\n",
       "      <td>0.001286</td>\n",
       "      <td>0.605177</td>\n",
       "      <td>0.542298</td>\n",
       "      <td>0.173320</td>\n",
       "      <td>0.259979</td>\n",
       "      <td>7.580000e-09</td>\n",
       "      <td>Silty Clay Loam</td>\n",
       "    </tr>\n",
       "    <tr>\n",
       "      <th>8999</th>\n",
       "      <td>10735</td>\n",
       "      <td>10033</td>\n",
       "      <td>9260</td>\n",
       "      <td>9193</td>\n",
       "      <td>10392</td>\n",
       "      <td>10203</td>\n",
       "      <td>9456</td>\n",
       "      <td>5044</td>\n",
       "      <td>25336</td>\n",
       "      <td>23383</td>\n",
       "      <td>...</td>\n",
       "      <td>-0.144402</td>\n",
       "      <td>-0.139341</td>\n",
       "      <td>-0.119335</td>\n",
       "      <td>-0.001178</td>\n",
       "      <td>-0.544615</td>\n",
       "      <td>-0.492312</td>\n",
       "      <td>0.061220</td>\n",
       "      <td>0.091830</td>\n",
       "      <td>3.130000e-09</td>\n",
       "      <td>Silty Clay Loam</td>\n",
       "    </tr>\n",
       "  </tbody>\n",
       "</table>\n",
       "<p>9000 rows × 35 columns</p>\n",
       "</div>"
      ],
      "text/plain": [
       "      Band1  Band2  Band3  Band4  Band5  Band6  Band7  Band9  Band10  Band11  \\\n",
       "0     10750  10215   9818   9949  13999  12936  10806   5041   27211   24505   \n",
       "1     10356   9601   8944   8362  15037  10579   8523   5031   25571   23145   \n",
       "2      9700   8960   8200   7560  13572   9789   7719   5030   25539   23358   \n",
       "3     11711  11390  11107  11414  12894  13906  13187   5033   21447   19666   \n",
       "4     12938  12281  11666  11435  13725  10704   9788   7208   15315   14943   \n",
       "...     ...    ...    ...    ...    ...    ...    ...    ...     ...     ...   \n",
       "8995  10506   9784   9106   8700  13480  10159   8275   5051   28685   26406   \n",
       "8996  10689  10028   9368   8869  13644  10424   8479   5042   24943   22870   \n",
       "8997  15510  13174  18435  11627  12621  10818  18090   5065   20267   18926   \n",
       "8998  10753  10117   9652   9630  13668  11367   9764   5052   29475   26932   \n",
       "8999  10735  10033   9260   9193  10392  10203   9456   5044   25336   23383   \n",
       "\n",
       "      ...  CorrectiveBand5  CorrectiveBand6  CorrectiveBand7  CorrectiveBand9  \\\n",
       "0     ...        -0.380165        -0.335258        -0.245276        -0.001732   \n",
       "1     ...        -0.424016        -0.235686        -0.148830        -0.001310   \n",
       "2     ...        -0.411813        -0.230071        -0.130625        -0.001441   \n",
       "3     ...        -0.177916        -0.200724        -0.184519        -0.000744   \n",
       "4     ...        -0.177023        -0.115729        -0.097145        -0.044798   \n",
       "...   ...              ...              ...              ...              ...   \n",
       "8995  ...         0.209679         0.127563         0.080979         0.001261   \n",
       "8996  ...         0.187234         0.117487         0.075357         0.000910   \n",
       "8997  ...        -0.514843        -0.393040        -0.884306        -0.004391   \n",
       "8998  ...         0.214328         0.157432         0.117796         0.001286   \n",
       "8999  ...        -0.144402        -0.139341        -0.119335        -0.001178   \n",
       "\n",
       "      CorrectiveBand10  CorrectiveBand11      NDVI      SAVI           EVI  \\\n",
       "0            -0.938310         -0.823994  0.169116  0.253675  7.120000e-09   \n",
       "1            -0.869027         -0.766540  0.285269  0.427903  1.380000e-08   \n",
       "2            -0.986726         -0.881947  0.284497  0.426746  1.640000e-08   \n",
       "3            -0.370684         -0.330543  0.060885  0.091328  2.210000e-09   \n",
       "4            -0.209283         -0.201735  0.091017  0.136526  2.970000e-09   \n",
       "...                ...               ...       ...       ...           ...   \n",
       "8995          0.585643          0.529292  0.215509  0.323264  1.040000e-08   \n",
       "8996          0.431977          0.387074  0.212100  0.318150  9.840000e-09   \n",
       "8997         -1.031376         -0.940783  0.040993  0.061490  1.290000e-09   \n",
       "8998          0.605177          0.542298  0.173320  0.259979  7.580000e-09   \n",
       "8999         -0.544615         -0.492312  0.061220  0.091830  3.130000e-09   \n",
       "\n",
       "             Soiltype  \n",
       "0          Sandy Loam  \n",
       "1                Loam  \n",
       "2                Loam  \n",
       "3     Sandy Clay Loam  \n",
       "4          Sandy Loam  \n",
       "...               ...  \n",
       "8995  Silty Clay Loam  \n",
       "8996  Silty Clay Loam  \n",
       "8997             Loam  \n",
       "8998  Silty Clay Loam  \n",
       "8999  Silty Clay Loam  \n",
       "\n",
       "[9000 rows x 35 columns]"
      ]
     },
     "execution_count": 21,
     "metadata": {},
     "output_type": "execute_result"
    }
   ],
   "source": [
    "newdataset"
   ]
  },
  {
   "cell_type": "code",
   "execution_count": 22,
   "id": "fluid-input",
   "metadata": {},
   "outputs": [],
   "source": [
    "X =newdataset.drop('Soiltype', axis=1)\n",
    "y = newdataset['Soiltype']"
   ]
  },
  {
   "cell_type": "code",
   "execution_count": 23,
   "id": "single-accordance",
   "metadata": {},
   "outputs": [],
   "source": [
    "from sklearn.model_selection import train_test_split\n",
    "X_train, X_test, y_train, y_test = train_test_split(X, y, test_size=0.20)"
   ]
  },
  {
   "cell_type": "code",
   "execution_count": 24,
   "id": "initial-vision",
   "metadata": {},
   "outputs": [
    {
     "name": "stdout",
     "output_type": "stream",
     "text": [
      "['Sandy Loam' 'Clay Loam' 'Loamy Sand' ... 'Clay Loam' 'Clay Loam'\n",
      " 'Loamy Sand']\n"
     ]
    }
   ],
   "source": [
    "from sklearn.tree import DecisionTreeClassifier\n",
    "classifier = DecisionTreeClassifier()\n",
    "classifier.fit(X_train, y_train)\n",
    "y_pred = classifier.predict(X_test)\n",
    "print(y_pred)"
   ]
  },
  {
   "cell_type": "code",
   "execution_count": 4,
   "id": "distributed-jersey",
   "metadata": {},
   "outputs": [
    {
     "ename": "NameError",
     "evalue": "name 'y_test' is not defined",
     "output_type": "error",
     "traceback": [
      "\u001b[1;31m---------------------------------------------------------------------------\u001b[0m",
      "\u001b[1;31mNameError\u001b[0m                                 Traceback (most recent call last)",
      "\u001b[1;32m<ipython-input-4-f0fc2fa23a45>\u001b[0m in \u001b[0;36m<module>\u001b[1;34m\u001b[0m\n\u001b[0;32m      1\u001b[0m \u001b[1;32mfrom\u001b[0m \u001b[0msklearn\u001b[0m\u001b[1;33m.\u001b[0m\u001b[0mmetrics\u001b[0m \u001b[1;32mimport\u001b[0m \u001b[0mclassification_report\u001b[0m\u001b[1;33m,\u001b[0m \u001b[0mconfusion_matrix\u001b[0m\u001b[1;33m\u001b[0m\u001b[1;33m\u001b[0m\u001b[0m\n\u001b[1;32m----> 2\u001b[1;33m \u001b[0mprint\u001b[0m\u001b[1;33m(\u001b[0m\u001b[0mconfusion_matrix\u001b[0m\u001b[1;33m(\u001b[0m\u001b[0my_test\u001b[0m\u001b[1;33m,\u001b[0m \u001b[0my_pred\u001b[0m\u001b[1;33m)\u001b[0m\u001b[1;33m)\u001b[0m\u001b[1;33m\u001b[0m\u001b[1;33m\u001b[0m\u001b[0m\n\u001b[0m\u001b[0;32m      3\u001b[0m \u001b[0mprint\u001b[0m\u001b[1;33m(\u001b[0m\u001b[0mclassification_report\u001b[0m\u001b[1;33m(\u001b[0m\u001b[0my_test\u001b[0m\u001b[1;33m,\u001b[0m \u001b[0my_pred\u001b[0m\u001b[1;33m)\u001b[0m\u001b[1;33m)\u001b[0m\u001b[1;33m\u001b[0m\u001b[1;33m\u001b[0m\u001b[0m\n",
      "\u001b[1;31mNameError\u001b[0m: name 'y_test' is not defined"
     ]
    }
   ],
   "source": [
    "from sklearn.metrics import classification_report, confusion_matrix\n",
    "print(confusion_matrix(y_test, y_pred))\n",
    "print(classification_report(y_test, y_pred))"
   ]
  },
  {
   "cell_type": "code",
   "execution_count": 25,
   "id": "occupied-mouth",
   "metadata": {},
   "outputs": [],
   "source": [
    "model=DecisionTreeClassifier()"
   ]
  },
  {
   "cell_type": "code",
   "execution_count": 27,
   "id": "weird-apollo",
   "metadata": {},
   "outputs": [
    {
     "data": {
      "text/plain": [
       "DecisionTreeClassifier()"
      ]
     },
     "execution_count": 27,
     "metadata": {},
     "output_type": "execute_result"
    }
   ],
   "source": [
    "model.fit(X_train,y_train)"
   ]
  },
  {
   "cell_type": "code",
   "execution_count": 29,
   "id": "surprising-clerk",
   "metadata": {},
   "outputs": [
    {
     "name": "stdout",
     "output_type": "stream",
     "text": [
      "['Sandy Loam' 'Clay Loam' 'Loamy Sand' ... 'Clay Loam' 'Clay Loam'\n",
      " 'Loamy Sand']\n"
     ]
    }
   ],
   "source": [
    "pred_result=model.predict(X_test)\n",
    "print(pred_result)"
   ]
  },
  {
   "cell_type": "code",
   "execution_count": 30,
   "id": "flush-dryer",
   "metadata": {},
   "outputs": [],
   "source": [
    "import pickle"
   ]
  },
  {
   "cell_type": "code",
   "execution_count": 31,
   "id": "mathematical-tribe",
   "metadata": {},
   "outputs": [],
   "source": [
    "filename='Soilmodel'\n",
    "pickle.dump(model,open(filename,'wb'))"
   ]
  },
  {
   "cell_type": "code",
   "execution_count": 32,
   "id": "backed-study",
   "metadata": {},
   "outputs": [
    {
     "data": {
      "text/plain": [
       "array(['Sandy Loam', 'Clay Loam', 'Loamy Sand', ..., 'Clay Loam',\n",
       "       'Clay Loam', 'Loamy Sand'], dtype=object)"
      ]
     },
     "execution_count": 32,
     "metadata": {},
     "output_type": "execute_result"
    }
   ],
   "source": [
    "loaded_model = pickle.load(open(filename,'rb'))\n",
    "loaded_model.predict(X_test)"
   ]
  },
  {
   "cell_type": "code",
   "execution_count": null,
   "id": "standing-alcohol",
   "metadata": {},
   "outputs": [],
   "source": []
  }
 ],
 "metadata": {
  "kernelspec": {
   "display_name": "Python 3",
   "language": "python",
   "name": "python3"
  },
  "language_info": {
   "codemirror_mode": {
    "name": "ipython",
    "version": 3
   },
   "file_extension": ".py",
   "mimetype": "text/x-python",
   "name": "python",
   "nbconvert_exporter": "python",
   "pygments_lexer": "ipython3",
   "version": "3.9.2"
  }
 },
 "nbformat": 4,
 "nbformat_minor": 5
}
